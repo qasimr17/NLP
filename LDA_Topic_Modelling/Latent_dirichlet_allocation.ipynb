{
 "cells": [
  {
   "cell_type": "markdown",
   "metadata": {},
   "source": [
    "## Step 0: Latent Dirichlet Allocation ##\n",
    "\n",
    "LDA is used to classify text in a document to a particular topic. It builds a topic per document model and words per topic model, modeled as Dirichlet distributions. \n",
    "\n",
    "* Each document is modeled as a multinomial distribution of topics and each topic is modeled as a multinomial distribution of words.\n",
    "* LDA assumes that the every chunk of text we feed into it will contain words that are somehow related. Therefore choosing the right corpus of data is crucial. \n",
    "* It also assumes documents are produced from a mixture of topics. Those topics then generate words based on their probability distribution. "
   ]
  },
  {
   "cell_type": "markdown",
   "metadata": {},
   "source": [
    "## Step 1: Load the dataset\n",
    "\n",
    "The dataset we'll use is a list of over one million news headlines published over a period of 15 years. We'll start by loading it from the `abcnews-date-text.csv` file."
   ]
  },
  {
   "cell_type": "code",
   "execution_count": 2,
   "metadata": {},
   "outputs": [],
   "source": [
    "'''\n",
    "Load the dataset from the CSV and save it to 'data_text'\n",
    "'''\n",
    "import pandas as pd\n",
    "data = pd.read_csv('abcnews-date-text.csv');\n",
    "# We only need the Headlines text column from the data\n",
    "data_text = data[:300000][['headline_text']];\n",
    "data_text['index'] = data_text.index\n",
    "\n",
    "documents = data_text"
   ]
  },
  {
   "cell_type": "markdown",
   "metadata": {},
   "source": [
    "Let's glance at the dataset:"
   ]
  },
  {
   "cell_type": "code",
   "execution_count": 5,
   "metadata": {},
   "outputs": [
    {
     "name": "stdout",
     "output_type": "stream",
     "text": [
      "300000\n"
     ]
    }
   ],
   "source": [
    "'''\n",
    "Get the total number of documents\n",
    "'''\n",
    "print(len(documents))"
   ]
  },
  {
   "cell_type": "code",
   "execution_count": 6,
   "metadata": {},
   "outputs": [
    {
     "data": {
      "text/html": [
       "<div>\n",
       "<style scoped>\n",
       "    .dataframe tbody tr th:only-of-type {\n",
       "        vertical-align: middle;\n",
       "    }\n",
       "\n",
       "    .dataframe tbody tr th {\n",
       "        vertical-align: top;\n",
       "    }\n",
       "\n",
       "    .dataframe thead th {\n",
       "        text-align: right;\n",
       "    }\n",
       "</style>\n",
       "<table border=\"1\" class=\"dataframe\">\n",
       "  <thead>\n",
       "    <tr style=\"text-align: right;\">\n",
       "      <th></th>\n",
       "      <th>headline_text</th>\n",
       "      <th>index</th>\n",
       "    </tr>\n",
       "  </thead>\n",
       "  <tbody>\n",
       "    <tr>\n",
       "      <th>0</th>\n",
       "      <td>aba decides against community broadcasting lic...</td>\n",
       "      <td>0</td>\n",
       "    </tr>\n",
       "    <tr>\n",
       "      <th>1</th>\n",
       "      <td>act fire witnesses must be aware of defamation</td>\n",
       "      <td>1</td>\n",
       "    </tr>\n",
       "    <tr>\n",
       "      <th>2</th>\n",
       "      <td>a g calls for infrastructure protection summit</td>\n",
       "      <td>2</td>\n",
       "    </tr>\n",
       "    <tr>\n",
       "      <th>3</th>\n",
       "      <td>air nz staff in aust strike for pay rise</td>\n",
       "      <td>3</td>\n",
       "    </tr>\n",
       "    <tr>\n",
       "      <th>4</th>\n",
       "      <td>air nz strike to affect australian travellers</td>\n",
       "      <td>4</td>\n",
       "    </tr>\n",
       "  </tbody>\n",
       "</table>\n",
       "</div>"
      ],
      "text/plain": [
       "                                       headline_text  index\n",
       "0  aba decides against community broadcasting lic...      0\n",
       "1     act fire witnesses must be aware of defamation      1\n",
       "2     a g calls for infrastructure protection summit      2\n",
       "3           air nz staff in aust strike for pay rise      3\n",
       "4      air nz strike to affect australian travellers      4"
      ]
     },
     "execution_count": 6,
     "metadata": {},
     "output_type": "execute_result"
    }
   ],
   "source": [
    "documents[:5]"
   ]
  },
  {
   "cell_type": "markdown",
   "metadata": {},
   "source": [
    "## Step 2: Data Preprocessing ##\n",
    "\n",
    "We will perform the following steps:\n",
    "\n",
    "* **Tokenization**: Split the text into sentences and the sentences into words. Lowercase the words and remove punctuation.\n",
    "* Words that have fewer than 3 characters are removed.\n",
    "* All **stopwords** are removed.\n",
    "* Words are **lemmatized** - words in third person are changed to first person and verbs in past and future tenses are changed into present.\n",
    "* Words are **stemmed** - words are reduced to their root form.\n"
   ]
  },
  {
   "cell_type": "code",
   "execution_count": 12,
   "metadata": {},
   "outputs": [
    {
     "name": "stderr",
     "output_type": "stream",
     "text": [
      "[nltk_data] Downloading package wordnet to\n",
      "[nltk_data]     C:\\Users\\US\\AppData\\Roaming\\nltk_data...\n",
      "[nltk_data]   Package wordnet is already up-to-date!\n"
     ]
    }
   ],
   "source": [
    "'''\n",
    "Loading Gensim and nltk libraries\n",
    "'''\n",
    "# pip install gensim\n",
    "import gensim\n",
    "from gensim.utils import simple_preprocess\n",
    "from gensim.parsing.preprocessing import STOPWORDS\n",
    "from nltk.stem import WordNetLemmatizer, SnowballStemmer\n",
    "from nltk.stem.porter import *\n",
    "import numpy as np\n",
    "import nltk\n",
    "nltk.download('wordnet')\n",
    "np.random.seed(400)"
   ]
  },
  {
   "cell_type": "markdown",
   "metadata": {},
   "source": [
    "### Lemmatizer Example\n",
    "Before preprocessing our dataset, let's first look at an lemmatizing example. What would be the output if we lemmatized the word 'went':"
   ]
  },
  {
   "cell_type": "code",
   "execution_count": 10,
   "metadata": {},
   "outputs": [
    {
     "name": "stdout",
     "output_type": "stream",
     "text": [
      "go\n"
     ]
    }
   ],
   "source": [
    "print(WordNetLemmatizer().lemmatize('went', pos = 'v')) # past tense to present tense"
   ]
  },
  {
   "cell_type": "markdown",
   "metadata": {},
   "source": [
    "### Stemmer Example\n",
    "Let's also look at a stemming example. Let's throw a number of words at the stemmer and see how it deals with each one:"
   ]
  },
  {
   "cell_type": "code",
   "execution_count": 11,
   "metadata": {},
   "outputs": [
    {
     "data": {
      "text/html": [
       "<div>\n",
       "<style scoped>\n",
       "    .dataframe tbody tr th:only-of-type {\n",
       "        vertical-align: middle;\n",
       "    }\n",
       "\n",
       "    .dataframe tbody tr th {\n",
       "        vertical-align: top;\n",
       "    }\n",
       "\n",
       "    .dataframe thead th {\n",
       "        text-align: right;\n",
       "    }\n",
       "</style>\n",
       "<table border=\"1\" class=\"dataframe\">\n",
       "  <thead>\n",
       "    <tr style=\"text-align: right;\">\n",
       "      <th></th>\n",
       "      <th>original word</th>\n",
       "      <th>stemmed</th>\n",
       "    </tr>\n",
       "  </thead>\n",
       "  <tbody>\n",
       "    <tr>\n",
       "      <th>0</th>\n",
       "      <td>caresses</td>\n",
       "      <td>caress</td>\n",
       "    </tr>\n",
       "    <tr>\n",
       "      <th>1</th>\n",
       "      <td>flies</td>\n",
       "      <td>fli</td>\n",
       "    </tr>\n",
       "    <tr>\n",
       "      <th>2</th>\n",
       "      <td>dies</td>\n",
       "      <td>die</td>\n",
       "    </tr>\n",
       "    <tr>\n",
       "      <th>3</th>\n",
       "      <td>mules</td>\n",
       "      <td>mule</td>\n",
       "    </tr>\n",
       "    <tr>\n",
       "      <th>4</th>\n",
       "      <td>denied</td>\n",
       "      <td>deni</td>\n",
       "    </tr>\n",
       "    <tr>\n",
       "      <th>5</th>\n",
       "      <td>died</td>\n",
       "      <td>die</td>\n",
       "    </tr>\n",
       "    <tr>\n",
       "      <th>6</th>\n",
       "      <td>agreed</td>\n",
       "      <td>agre</td>\n",
       "    </tr>\n",
       "    <tr>\n",
       "      <th>7</th>\n",
       "      <td>owned</td>\n",
       "      <td>own</td>\n",
       "    </tr>\n",
       "    <tr>\n",
       "      <th>8</th>\n",
       "      <td>humbled</td>\n",
       "      <td>humbl</td>\n",
       "    </tr>\n",
       "    <tr>\n",
       "      <th>9</th>\n",
       "      <td>sized</td>\n",
       "      <td>size</td>\n",
       "    </tr>\n",
       "    <tr>\n",
       "      <th>10</th>\n",
       "      <td>meeting</td>\n",
       "      <td>meet</td>\n",
       "    </tr>\n",
       "    <tr>\n",
       "      <th>11</th>\n",
       "      <td>stating</td>\n",
       "      <td>state</td>\n",
       "    </tr>\n",
       "    <tr>\n",
       "      <th>12</th>\n",
       "      <td>siezing</td>\n",
       "      <td>siez</td>\n",
       "    </tr>\n",
       "    <tr>\n",
       "      <th>13</th>\n",
       "      <td>itemization</td>\n",
       "      <td>item</td>\n",
       "    </tr>\n",
       "    <tr>\n",
       "      <th>14</th>\n",
       "      <td>sensational</td>\n",
       "      <td>sensat</td>\n",
       "    </tr>\n",
       "    <tr>\n",
       "      <th>15</th>\n",
       "      <td>traditional</td>\n",
       "      <td>tradit</td>\n",
       "    </tr>\n",
       "    <tr>\n",
       "      <th>16</th>\n",
       "      <td>reference</td>\n",
       "      <td>refer</td>\n",
       "    </tr>\n",
       "    <tr>\n",
       "      <th>17</th>\n",
       "      <td>colonizer</td>\n",
       "      <td>colon</td>\n",
       "    </tr>\n",
       "    <tr>\n",
       "      <th>18</th>\n",
       "      <td>plotted</td>\n",
       "      <td>plot</td>\n",
       "    </tr>\n",
       "  </tbody>\n",
       "</table>\n",
       "</div>"
      ],
      "text/plain": [
       "   original word stemmed\n",
       "0       caresses  caress\n",
       "1          flies     fli\n",
       "2           dies     die\n",
       "3          mules    mule\n",
       "4         denied    deni\n",
       "5           died     die\n",
       "6         agreed    agre\n",
       "7          owned     own\n",
       "8        humbled   humbl\n",
       "9          sized    size\n",
       "10       meeting    meet\n",
       "11       stating   state\n",
       "12       siezing    siez\n",
       "13   itemization    item\n",
       "14   sensational  sensat\n",
       "15   traditional  tradit\n",
       "16     reference   refer\n",
       "17     colonizer   colon\n",
       "18       plotted    plot"
      ]
     },
     "execution_count": 11,
     "metadata": {},
     "output_type": "execute_result"
    }
   ],
   "source": [
    "stemmer = SnowballStemmer(\"english\")\n",
    "original_words = ['caresses', 'flies', 'dies', 'mules', 'denied','died', 'agreed', 'owned', \n",
    "           'humbled', 'sized','meeting', 'stating', 'siezing', 'itemization','sensational', \n",
    "           'traditional', 'reference', 'colonizer','plotted']\n",
    "singles = [stemmer.stem(plural) for plural in original_words]\n",
    "\n",
    "pd.DataFrame(data={'original word':original_words, 'stemmed':singles })"
   ]
  },
  {
   "cell_type": "code",
   "execution_count": 48,
   "metadata": {},
   "outputs": [],
   "source": [
    "# Functions to perform pre processing on the entire dataset \n",
    "\n",
    "def stem_and_lemmatize(text):\n",
    "\n",
    "    \"\"\" Returns a text after performing stemming and lemmatization.\"\"\"\n",
    "    return stemmer.stem(WordNetLemmatizer().lemmatize(text, pos='v'))\n",
    "\n",
    "def preprocess(text):\n",
    "    \"\"\" Returns tokenized text after catering for stopwords and applying stemming and lemmatization.\"\"\"\n",
    "    return [stem_and_lemmatize(word) for word in simple_preprocess(text, min_len=4) if word not in STOPWORDS]"
   ]
  },
  {
   "cell_type": "code",
   "execution_count": 49,
   "metadata": {},
   "outputs": [
    {
     "name": "stdout",
     "output_type": "stream",
     "text": [
      "Original document: \n",
      "['rain', 'helps', 'dampen', 'bushfires']\n",
      "\n",
      "\n",
      "Tokenized and lemmatized document: \n",
      "['rain', 'help', 'dampen', 'bushfir']\n"
     ]
    }
   ],
   "source": [
    "'''\n",
    "Preview a document after preprocessing\n",
    "'''\n",
    "document_num = 4310\n",
    "doc_sample = documents[documents['index'] == document_num].values[0][0]\n",
    "\n",
    "print(\"Original document: \")\n",
    "words = []\n",
    "for word in doc_sample.split(' '):\n",
    "    words.append(word)\n",
    "print(words)\n",
    "print(\"\\n\\nTokenized and lemmatized document: \")\n",
    "print(preprocess(doc_sample))"
   ]
  },
  {
   "cell_type": "markdown",
   "metadata": {},
   "source": [
    "Let's now preprocess all the news headlines we have. To do that, let's use the [map](https://pandas.pydata.org/pandas-docs/stable/generated/pandas.Series.map.html) function from pandas to apply `preprocess()` to the `headline_text` column\n",
    "\n",
    "**Note**: This may take a few minutes"
   ]
  },
  {
   "cell_type": "code",
   "execution_count": 55,
   "metadata": {},
   "outputs": [],
   "source": [
    "processed_docs = documents.iloc[:, 0].map(preprocess)"
   ]
  },
  {
   "cell_type": "code",
   "execution_count": 56,
   "metadata": {},
   "outputs": [
    {
     "data": {
      "text/plain": [
       "0            [decid, communiti, broadcast, licenc]\n",
       "1                               [wit, awar, defam]\n",
       "2           [call, infrastructur, protect, summit]\n",
       "3                      [staff, aust, strike, rise]\n",
       "4             [strike, affect, australian, travel]\n",
       "5               [ambiti, olsson, win, tripl, jump]\n",
       "6           [antic, delight, record, break, barca]\n",
       "7    [aussi, qualifi, stosur, wast, memphi, match]\n",
       "8            [aust, address, secur, council, iraq]\n",
       "9                         [australia, lock, timet]\n",
       "Name: headline_text, dtype: object"
      ]
     },
     "execution_count": 56,
     "metadata": {},
     "output_type": "execute_result"
    }
   ],
   "source": [
    "'''\n",
    "Preview 'processed_docs'\n",
    "'''\n",
    "processed_docs[:10]"
   ]
  },
  {
   "cell_type": "markdown",
   "metadata": {},
   "source": [
    "## Step 3.1: Bag of words on the dataset\n",
    "\n",
    "Now let's create a dictionary from 'processed_docs' containing the number of times a word appears in the training set. To do that, let's pass `processed_docs` to [`gensim.corpora.Dictionary()`](https://radimrehurek.com/gensim/corpora/dictionary.html) and call it '`dictionary`'."
   ]
  },
  {
   "cell_type": "code",
   "execution_count": 57,
   "metadata": {},
   "outputs": [],
   "source": [
    "'''\n",
    "Create a dictionary from 'processed_docs' containing the number of times a word appears \n",
    "in the training set using gensim.corpora.Dictionary and call it 'dictionary'\n",
    "'''\n",
    "dictionary = gensim.corpora.Dictionary(processed_docs)"
   ]
  },
  {
   "cell_type": "code",
   "execution_count": 129,
   "metadata": {},
   "outputs": [
    {
     "name": "stdout",
     "output_type": "stream",
     "text": [
      "Id: 0, Value: broadcast\n",
      "Id: 1, Value: communiti\n",
      "Id: 2, Value: decid\n",
      "Id: 3, Value: licenc\n",
      "Id: 4, Value: awar\n",
      "Id: 5, Value: defam\n",
      "Id: 6, Value: wit\n",
      "Id: 7, Value: call\n",
      "Id: 8, Value: infrastructur\n",
      "Id: 9, Value: protect\n",
      "Id: 10, Value: summit\n"
     ]
    }
   ],
   "source": [
    "'''\n",
    "We can check if our dictionary is implemented correctly.\n",
    "'''\n",
    "i = 0\n",
    "for k, v in dictionary.items():\n",
    "    print(f\"Id: {k}, Value: {v}\")\n",
    "    if i == 10:\n",
    "        break\n",
    "    i += 1"
   ]
  },
  {
   "cell_type": "markdown",
   "metadata": {},
   "source": [
    "**Gensim filter_extremes**\n",
    "\n",
    "[`filter_extremes(no_below=5, no_above=0.5, keep_n=100000)`](https://radimrehurek.com/gensim/corpora/dictionary.html#gensim.corpora.dictionary.Dictionary.filter_extremes)\n",
    "\n",
    "Filter out tokens that appear in\n",
    "\n",
    "* less than no_below documents (absolute number) or\n",
    "* more than no_above documents (fraction of total corpus size, not absolute number).\n",
    "* after (1) and (2), keep only the first keep_n most frequent tokens (or keep all if None)."
   ]
  },
  {
   "cell_type": "code",
   "execution_count": 130,
   "metadata": {},
   "outputs": [],
   "source": [
    "dictionary.filter_extremes(no_below=15, no_above=0.5, keep_n=100000)"
   ]
  },
  {
   "cell_type": "markdown",
   "metadata": {},
   "source": [
    "** Gensim doc2bow **\n",
    "\n",
    "[`doc2bow(document)`](https://radimrehurek.com/gensim/corpora/dictionary.html#gensim.corpora.dictionary.Dictionary.doc2bow)\n",
    "\n",
    "* Convert document (a list of words) into the bag-of-words format = list of (token_id, token_count) 2-tuples. Each word is assumed to be a tokenized and normalized string (either unicode or utf8-encoded). No further preprocessing is done on the words in document; apply tokenization, stemming etc. before calling this method."
   ]
  },
  {
   "cell_type": "code",
   "execution_count": 141,
   "metadata": {},
   "outputs": [],
   "source": [
    "'''\n",
    "Create the Bag-of-words model for each document i.e for each document we create a dictionary reporting how many\n",
    "words and how many times those words appear. Save this to 'bow_corpus'\n",
    "'''\n",
    "\n",
    "bow_corpus = [dictionary.doc2bow(text) for text in processed_docs]"
   ]
  },
  {
   "cell_type": "code",
   "execution_count": 142,
   "metadata": {},
   "outputs": [
    {
     "data": {
      "text/plain": [
       "[(71, 1), (107, 1), (462, 1), (3530, 1)]"
      ]
     },
     "execution_count": 142,
     "metadata": {},
     "output_type": "execute_result"
    }
   ],
   "source": [
    "bow_corpus[document_num]"
   ]
  },
  {
   "cell_type": "code",
   "execution_count": 156,
   "metadata": {},
   "outputs": [
    {
     "name": "stdout",
     "output_type": "stream",
     "text": [
      "Word 71 (\"bushfir\") appears 1 time(s).\n",
      "Word 107 (\"help\") appears 1 time(s).\n",
      "Word 462 (\"rain\") appears 1 time(s).\n",
      "Word 3530 (\"dampen\") appears 1 time(s).\n"
     ]
    }
   ],
   "source": [
    "'''\n",
    "Preview BOW for our sample preprocessed document\n",
    "'''\n",
    "# Here document_num is document number 4310 which we have checked in Step 2\n",
    "bow_doc_4310 = bow_corpus[document_num]\n",
    "\n",
    "# Now we check if our BoW model is working correctly\n",
    "for id, count in bow_doc_4310:\n",
    "    print(f\"Word {id} (\\\"{dictionary[id]}\\\") appears {count} time(s).\")"
   ]
  },
  {
   "cell_type": "markdown",
   "metadata": {},
   "source": [
    "## Step 3.2: TF-IDF on our document set ##\n",
    "\n",
    "While performing TF-IDF on the corpus is not necessary for LDA implemention using the gensim model, it is recemmended. TF-IDF expects a bag-of-words (integer values) training corpus during initialization. During transformation, it will take a vector and return another vector of the same dimensionality.\n",
    "\n",
    "*Please note: The author of Gensim dictates the standard procedure for LDA to be using the Bag of Words model.*"
   ]
  },
  {
   "cell_type": "markdown",
   "metadata": {},
   "source": [
    "** TF-IDF stands for \"Term Frequency, Inverse Document Frequency\".**\n",
    "\n",
    "* It is a way to score the importance of words (or \"terms\") in a document based on how frequently they appear across multiple documents.\n",
    "* If a word appears frequently in a document, it's important. Give the word a high score. But if a word appears in many documents, it's not a unique identifier. Give the word a low score.\n",
    "* Therefore, common words like \"the\" and \"for\", which appear in many documents, will be scaled down. Words that appear frequently in a single document will be scaled up.\n",
    "\n",
    "In other words:\n",
    "\n",
    "* TF(w) = `(Number of times term w appears in a document) / (Total number of terms in the document)`.\n",
    "* IDF(w) = `log_e(Total number of documents / Number of documents with term w in it)`.\n",
    "\n",
    "** For example **\n",
    "\n",
    "* Consider a document containing `100` words wherein the word 'tiger' appears 3 times. \n",
    "* The term frequency (i.e., tf) for 'tiger' is then: \n",
    "    - `TF = (3 / 100) = 0.03`. \n",
    "\n",
    "* Now, assume we have `10 million` documents and the word 'tiger' appears in `1000` of these. Then, the inverse document frequency (i.e., idf) is calculated as:\n",
    "    - `IDF = log(10,000,000 / 1,000) = 4`. \n",
    "\n",
    "* Thus, the Tf-idf weight is the product of these quantities: \n",
    "    - `TF-IDF = 0.03 * 4 = 0.12`."
   ]
  },
  {
   "cell_type": "code",
   "execution_count": 167,
   "metadata": {},
   "outputs": [],
   "source": [
    "'''\n",
    "Create tf-idf model object using models.TfidfModel on 'bow_corpus' and save it to 'tfidf'\n",
    "'''\n",
    "from gensim import corpora, models\n",
    "\n",
    "tfidf = models.TfidfModel(bow_corpus)"
   ]
  },
  {
   "cell_type": "code",
   "execution_count": 170,
   "metadata": {},
   "outputs": [],
   "source": [
    "'''\n",
    "Apply transformation to the entire corpus and call it 'corpus_tfidf'\n",
    "'''\n",
    "corpus_tfidf = tfidf[bow_corpus]"
   ]
  },
  {
   "cell_type": "code",
   "execution_count": 172,
   "metadata": {},
   "outputs": [
    {
     "name": "stdout",
     "output_type": "stream",
     "text": [
      "[(0, 0.5959813347777092),\n",
      " (1, 0.39204529549491984),\n",
      " (2, 0.48531419274988147),\n",
      " (3, 0.5055461098578569)]\n"
     ]
    }
   ],
   "source": [
    "'''\n",
    "Preview TF-IDF scores for our first document --> --> (token_id, tfidf score)\n",
    "'''\n",
    "from pprint import pprint\n",
    "for doc in corpus_tfidf:\n",
    "    pprint(doc)\n",
    "    break"
   ]
  },
  {
   "cell_type": "markdown",
   "metadata": {},
   "source": [
    "## Step 4.1: Running LDA using Bag of Words ##\n",
    "\n",
    "We are going for 10 topics in the document corpus.\n",
    "\n",
    "** We will be running LDA using all CPU cores to parallelize and speed up model training.**\n",
    "\n",
    "Some of the parameters we will be tweaking are:\n",
    "\n",
    "* **num_topics** is the number of requested latent topics to be extracted from the training corpus.\n",
    "* **id2word** is a mapping from word ids (integers) to words (strings). It is used to determine the vocabulary size, as well as for debugging and topic printing.\n",
    "* **workers** is the number of extra processes to use for parallelization. Uses all available cores by default.\n",
    "* **alpha** and **eta** are hyperparameters that affect sparsity of the document-topic (theta) and topic-word (lambda) distributions. We will let these be the default values for now(default value is `1/num_topics`)\n",
    "    - Alpha is the per document topic distribution.\n",
    "        * High alpha: Every document has a mixture of all topics(documents appear similar to each other).\n",
    "        * Low alpha: Every document has a mixture of very few topics\n",
    "\n",
    "    - Eta is the per topic word distribution.\n",
    "        * High eta: Each topic has a mixture of most words(topics appear similar to each other).\n",
    "        * Low eta: Each topic has a mixture of few words.\n",
    "\n",
    "* ** passes ** is the number of training passes through the corpus. For  example, if the training corpus has 50,000 documents, chunksize is  10,000, passes is 2, then online training is done in 10 updates: \n",
    "    * `#1 documents 0-9,999 `\n",
    "    * `#2 documents 10,000-19,999 `\n",
    "    * `#3 documents 20,000-29,999 `\n",
    "    * `#4 documents 30,000-39,999 `\n",
    "    * `#5 documents 40,000-49,999 `\n",
    "    * `#6 documents 0-9,999 `\n",
    "    * `#7 documents 10,000-19,999 `\n",
    "    * `#8 documents 20,000-29,999 `\n",
    "    * `#9 documents 30,000-39,999 `\n",
    "    * `#10 documents 40,000-49,999` "
   ]
  },
  {
   "cell_type": "code",
   "execution_count": 175,
   "metadata": {},
   "outputs": [],
   "source": [
    "# LDA multicore \n",
    "'''\n",
    "Train your lda model using gensim.models.LdaMulticore and save it to 'lda_model'\n",
    "'''\n",
    "from gensim.models import LdaMulticore\n",
    "\n",
    "lda_model = LdaMulticore(bow_corpus, num_topics=10, id2word=dictionary, passes=10)"
   ]
  },
  {
   "cell_type": "code",
   "execution_count": 176,
   "metadata": {},
   "outputs": [
    {
     "name": "stdout",
     "output_type": "stream",
     "text": [
      "Topic: 0 \n",
      "Words: 0.018*\"talk\" + 0.016*\"deal\" + 0.016*\"jail\" + 0.015*\"trial\" + 0.013*\"appeal\" + 0.012*\"stand\" + 0.011*\"trade\" + 0.011*\"court\" + 0.011*\"china\" + 0.011*\"timor\"\n",
      "\n",
      "\n",
      "Topic: 1 \n",
      "Words: 0.022*\"australia\" + 0.020*\"forc\" + 0.018*\"open\" + 0.016*\"iraq\" + 0.016*\"inquiri\" + 0.015*\"victim\" + 0.014*\"begin\" + 0.013*\"aust\" + 0.012*\"lead\" + 0.012*\"australian\"\n",
      "\n",
      "\n",
      "Topic: 2 \n",
      "Words: 0.072*\"polic\" + 0.036*\"charg\" + 0.035*\"kill\" + 0.031*\"face\" + 0.023*\"attack\" + 0.022*\"investig\" + 0.018*\"court\" + 0.016*\"probe\" + 0.015*\"drug\" + 0.014*\"arrest\"\n",
      "\n",
      "\n",
      "Topic: 3 \n",
      "Words: 0.026*\"rise\" + 0.023*\"death\" + 0.020*\"case\" + 0.019*\"return\" + 0.018*\"high\" + 0.017*\"market\" + 0.016*\"price\" + 0.015*\"hear\" + 0.014*\"sale\" + 0.011*\"find\"\n",
      "\n",
      "\n",
      "Topic: 4 \n",
      "Words: 0.031*\"water\" + 0.019*\"warn\" + 0.018*\"secur\" + 0.016*\"test\" + 0.015*\"concern\" + 0.014*\"blaze\" + 0.012*\"prompt\" + 0.011*\"cost\" + 0.011*\"fear\" + 0.011*\"resid\"\n",
      "\n",
      "\n",
      "Topic: 5 \n",
      "Words: 0.036*\"crash\" + 0.026*\"hospit\" + 0.023*\"worker\" + 0.020*\"union\" + 0.018*\"die\" + 0.013*\"protest\" + 0.013*\"terror\" + 0.013*\"strike\" + 0.012*\"action\" + 0.010*\"highway\"\n",
      "\n",
      "\n",
      "Topic: 6 \n",
      "Words: 0.017*\"world\" + 0.015*\"win\" + 0.015*\"record\" + 0.014*\"coast\" + 0.013*\"final\" + 0.012*\"time\" + 0.011*\"gold\" + 0.010*\"hop\" + 0.010*\"storm\" + 0.009*\"aussi\"\n",
      "\n",
      "\n",
      "Topic: 7 \n",
      "Words: 0.037*\"seek\" + 0.028*\"miss\" + 0.024*\"hous\" + 0.019*\"search\" + 0.019*\"help\" + 0.017*\"mayor\" + 0.015*\"polic\" + 0.014*\"teen\" + 0.014*\"head\" + 0.014*\"rain\"\n",
      "\n",
      "\n",
      "Topic: 8 \n",
      "Words: 0.049*\"plan\" + 0.040*\"council\" + 0.017*\"govt\" + 0.016*\"chang\" + 0.015*\"nation\" + 0.015*\"group\" + 0.014*\"opposit\" + 0.013*\"meet\" + 0.012*\"support\" + 0.012*\"water\"\n",
      "\n",
      "\n",
      "Topic: 9 \n",
      "Words: 0.048*\"govt\" + 0.040*\"urg\" + 0.028*\"fund\" + 0.020*\"boost\" + 0.017*\"minist\" + 0.016*\"health\" + 0.016*\"reject\" + 0.015*\"claim\" + 0.015*\"school\" + 0.014*\"road\"\n",
      "\n",
      "\n"
     ]
    }
   ],
   "source": [
    "'''\n",
    "For each topic, we will explore the words occuring in that topic and its relative weight\n",
    "'''\n",
    "for idx, topic in lda_model.print_topics(-1):\n",
    "    print(\"Topic: {} \\nWords: {}\".format(idx, topic))\n",
    "    print(\"\\n\")"
   ]
  },
  {
   "cell_type": "code",
   "execution_count": 177,
   "metadata": {},
   "outputs": [],
   "source": [
    "# TODO\n",
    "lda_model_tfidf = gensim.models.LdaMulticore(corpus_tfidf, \n",
    "                                             num_topics=10, \n",
    "                                             id2word = dictionary, \n",
    "                                             passes = 10)"
   ]
  },
  {
   "cell_type": "code",
   "execution_count": 178,
   "metadata": {},
   "outputs": [
    {
     "name": "stdout",
     "output_type": "stream",
     "text": [
      "Topic: 0 Word: 0.017*\"miss\" + 0.014*\"search\" + 0.010*\"crew\" + 0.009*\"station\" + 0.008*\"plant\" + 0.008*\"grower\" + 0.008*\"rescu\" + 0.008*\"hill\" + 0.008*\"break\" + 0.007*\"light\"\n",
      "\n",
      "\n",
      "Topic: 1 Word: 0.013*\"water\" + 0.010*\"firefight\" + 0.010*\"bushfir\" + 0.008*\"blaze\" + 0.007*\"control\" + 0.007*\"condit\" + 0.007*\"job\" + 0.007*\"airport\" + 0.006*\"restrict\" + 0.006*\"upgrad\"\n",
      "\n",
      "\n",
      "Topic: 2 Word: 0.012*\"guilti\" + 0.009*\"wind\" + 0.008*\"plead\" + 0.007*\"tiger\" + 0.007*\"uranium\" + 0.007*\"retir\" + 0.007*\"farm\" + 0.007*\"cyclon\" + 0.006*\"recycl\" + 0.005*\"ralli\"\n",
      "\n",
      "\n",
      "Topic: 3 Word: 0.026*\"polic\" + 0.021*\"charg\" + 0.020*\"crash\" + 0.017*\"kill\" + 0.015*\"investig\" + 0.014*\"jail\" + 0.013*\"court\" + 0.013*\"murder\" + 0.011*\"death\" + 0.010*\"woman\"\n",
      "\n",
      "\n",
      "Topic: 4 Word: 0.016*\"govt\" + 0.011*\"plan\" + 0.011*\"fund\" + 0.011*\"council\" + 0.010*\"health\" + 0.010*\"urg\" + 0.008*\"indigen\" + 0.008*\"chang\" + 0.008*\"group\" + 0.007*\"union\"\n",
      "\n",
      "\n",
      "Topic: 5 Word: 0.009*\"england\" + 0.009*\"aussi\" + 0.009*\"open\" + 0.009*\"final\" + 0.008*\"world\" + 0.008*\"victori\" + 0.007*\"titl\" + 0.007*\"win\" + 0.007*\"australia\" + 0.006*\"test\"\n",
      "\n",
      "\n",
      "Topic: 6 Word: 0.043*\"closer\" + 0.010*\"nuclear\" + 0.010*\"iran\" + 0.009*\"bird\" + 0.007*\"dump\" + 0.006*\"coal\" + 0.006*\"lanka\" + 0.006*\"bendigo\" + 0.006*\"riot\" + 0.006*\"pipelin\"\n",
      "\n",
      "\n",
      "Topic: 7 Word: 0.014*\"iraq\" + 0.011*\"troop\" + 0.011*\"timor\" + 0.008*\"violenc\" + 0.007*\"solomon\" + 0.007*\"israel\" + 0.007*\"howard\" + 0.007*\"korea\" + 0.007*\"extend\" + 0.006*\"isra\"\n",
      "\n",
      "\n",
      "Topic: 8 Word: 0.017*\"rise\" + 0.016*\"price\" + 0.013*\"market\" + 0.009*\"toll\" + 0.009*\"rate\" + 0.008*\"rat\" + 0.008*\"fuel\" + 0.008*\"councillor\" + 0.007*\"profit\" + 0.007*\"high\"\n",
      "\n",
      "\n",
      "Topic: 9 Word: 0.013*\"coast\" + 0.011*\"south\" + 0.009*\"north\" + 0.009*\"liber\" + 0.008*\"west\" + 0.008*\"flood\" + 0.008*\"gold\" + 0.008*\"poll\" + 0.007*\"cancer\" + 0.006*\"lebanon\"\n",
      "\n",
      "\n"
     ]
    }
   ],
   "source": [
    "'''\n",
    "For each topic, we will explore the words occuring in that topic and its relative weight\n",
    "'''\n",
    "for idx, topic in lda_model_tfidf.print_topics(-1):\n",
    "    print(\"Topic: {} Word: {}\".format(idx, topic))\n",
    "    print(\"\\n\")"
   ]
  },
  {
   "cell_type": "markdown",
   "metadata": {},
   "source": [
    "## Step 5.1: Performance evaluation by classifying sample document using LDA Bag of Words model\n",
    "\n",
    "We will check to see where our test document would be classified. "
   ]
  },
  {
   "cell_type": "code",
   "execution_count": 179,
   "metadata": {},
   "outputs": [
    {
     "data": {
      "text/plain": [
       "['rain', 'help', 'dampen', 'bushfir']"
      ]
     },
     "execution_count": 179,
     "metadata": {},
     "output_type": "execute_result"
    }
   ],
   "source": [
    "'''\n",
    "Text of sample document 4310\n",
    "'''\n",
    "processed_docs[4310]"
   ]
  },
  {
   "cell_type": "code",
   "execution_count": 180,
   "metadata": {},
   "outputs": [
    {
     "name": "stdout",
     "output_type": "stream",
     "text": [
      "\n",
      "Score: 0.4201993942260742\t \n",
      "Topic: 0.037*\"seek\" + 0.028*\"miss\" + 0.024*\"hous\" + 0.019*\"search\" + 0.019*\"help\" + 0.017*\"mayor\" + 0.015*\"polic\" + 0.014*\"teen\" + 0.014*\"head\" + 0.014*\"rain\"\n",
      "\n",
      "Score: 0.22009174525737762\t \n",
      "Topic: 0.022*\"australia\" + 0.020*\"forc\" + 0.018*\"open\" + 0.016*\"iraq\" + 0.016*\"inquiri\" + 0.015*\"victim\" + 0.014*\"begin\" + 0.013*\"aust\" + 0.012*\"lead\" + 0.012*\"australian\"\n",
      "\n",
      "Score: 0.21963785588741302\t \n",
      "Topic: 0.072*\"polic\" + 0.036*\"charg\" + 0.035*\"kill\" + 0.031*\"face\" + 0.023*\"attack\" + 0.022*\"investig\" + 0.018*\"court\" + 0.016*\"probe\" + 0.015*\"drug\" + 0.014*\"arrest\"\n",
      "\n",
      "Score: 0.02001134119927883\t \n",
      "Topic: 0.048*\"govt\" + 0.040*\"urg\" + 0.028*\"fund\" + 0.020*\"boost\" + 0.017*\"minist\" + 0.016*\"health\" + 0.016*\"reject\" + 0.015*\"claim\" + 0.015*\"school\" + 0.014*\"road\"\n",
      "\n",
      "Score: 0.02000993676483631\t \n",
      "Topic: 0.018*\"talk\" + 0.016*\"deal\" + 0.016*\"jail\" + 0.015*\"trial\" + 0.013*\"appeal\" + 0.012*\"stand\" + 0.011*\"trade\" + 0.011*\"court\" + 0.011*\"china\" + 0.011*\"timor\"\n",
      "\n",
      "Score: 0.02000993676483631\t \n",
      "Topic: 0.026*\"rise\" + 0.023*\"death\" + 0.020*\"case\" + 0.019*\"return\" + 0.018*\"high\" + 0.017*\"market\" + 0.016*\"price\" + 0.015*\"hear\" + 0.014*\"sale\" + 0.011*\"find\"\n",
      "\n",
      "Score: 0.02000993676483631\t \n",
      "Topic: 0.031*\"water\" + 0.019*\"warn\" + 0.018*\"secur\" + 0.016*\"test\" + 0.015*\"concern\" + 0.014*\"blaze\" + 0.012*\"prompt\" + 0.011*\"cost\" + 0.011*\"fear\" + 0.011*\"resid\"\n",
      "\n",
      "Score: 0.02000993676483631\t \n",
      "Topic: 0.036*\"crash\" + 0.026*\"hospit\" + 0.023*\"worker\" + 0.020*\"union\" + 0.018*\"die\" + 0.013*\"protest\" + 0.013*\"terror\" + 0.013*\"strike\" + 0.012*\"action\" + 0.010*\"highway\"\n",
      "\n",
      "Score: 0.02000993676483631\t \n",
      "Topic: 0.017*\"world\" + 0.015*\"win\" + 0.015*\"record\" + 0.014*\"coast\" + 0.013*\"final\" + 0.012*\"time\" + 0.011*\"gold\" + 0.010*\"hop\" + 0.010*\"storm\" + 0.009*\"aussi\"\n",
      "\n",
      "Score: 0.02000993676483631\t \n",
      "Topic: 0.049*\"plan\" + 0.040*\"council\" + 0.017*\"govt\" + 0.016*\"chang\" + 0.015*\"nation\" + 0.015*\"group\" + 0.014*\"opposit\" + 0.013*\"meet\" + 0.012*\"support\" + 0.012*\"water\"\n"
     ]
    }
   ],
   "source": [
    "'''\n",
    "Check which topic our test document belongs to using the LDA Bag of Words model.\n",
    "'''\n",
    "\n",
    "# Our test document is document number 4310\n",
    "for index, score in sorted(lda_model[bow_corpus[document_num]], key=lambda tup: -1*tup[1]):\n",
    "    print(\"\\nScore: {}\\t \\nTopic: {}\".format(score, lda_model.print_topic(index, 10)))"
   ]
  },
  {
   "cell_type": "markdown",
   "metadata": {},
   "source": [
    "## Step 5.2: Performance evaluation by classifying sample document using LDA TF-IDF model"
   ]
  },
  {
   "cell_type": "code",
   "execution_count": 181,
   "metadata": {},
   "outputs": [
    {
     "name": "stdout",
     "output_type": "stream",
     "text": [
      "\n",
      "Score: 0.5778065919876099\t \n",
      "Topic: 0.013*\"water\" + 0.010*\"firefight\" + 0.010*\"bushfir\" + 0.008*\"blaze\" + 0.007*\"control\" + 0.007*\"condit\" + 0.007*\"job\" + 0.007*\"airport\" + 0.006*\"restrict\" + 0.006*\"upgrad\"\n",
      "\n",
      "Score: 0.2621513605117798\t \n",
      "Topic: 0.043*\"closer\" + 0.010*\"nuclear\" + 0.010*\"iran\" + 0.009*\"bird\" + 0.007*\"dump\" + 0.006*\"coal\" + 0.006*\"lanka\" + 0.006*\"bendigo\" + 0.006*\"riot\" + 0.006*\"pipelin\"\n",
      "\n",
      "Score: 0.02000618726015091\t \n",
      "Topic: 0.013*\"coast\" + 0.011*\"south\" + 0.009*\"north\" + 0.009*\"liber\" + 0.008*\"west\" + 0.008*\"flood\" + 0.008*\"gold\" + 0.008*\"poll\" + 0.007*\"cancer\" + 0.006*\"lebanon\"\n",
      "\n",
      "Score: 0.02000606246292591\t \n",
      "Topic: 0.016*\"govt\" + 0.011*\"plan\" + 0.011*\"fund\" + 0.011*\"council\" + 0.010*\"health\" + 0.010*\"urg\" + 0.008*\"indigen\" + 0.008*\"chang\" + 0.008*\"group\" + 0.007*\"union\"\n",
      "\n",
      "Score: 0.020006051287055016\t \n",
      "Topic: 0.017*\"miss\" + 0.014*\"search\" + 0.010*\"crew\" + 0.009*\"station\" + 0.008*\"plant\" + 0.008*\"grower\" + 0.008*\"rescu\" + 0.008*\"hill\" + 0.008*\"break\" + 0.007*\"light\"\n",
      "\n",
      "Score: 0.02000519260764122\t \n",
      "Topic: 0.017*\"rise\" + 0.016*\"price\" + 0.013*\"market\" + 0.009*\"toll\" + 0.009*\"rate\" + 0.008*\"rat\" + 0.008*\"fuel\" + 0.008*\"councillor\" + 0.007*\"profit\" + 0.007*\"high\"\n",
      "\n",
      "Score: 0.020004907622933388\t \n",
      "Topic: 0.026*\"polic\" + 0.021*\"charg\" + 0.020*\"crash\" + 0.017*\"kill\" + 0.015*\"investig\" + 0.014*\"jail\" + 0.013*\"court\" + 0.013*\"murder\" + 0.011*\"death\" + 0.010*\"woman\"\n",
      "\n",
      "Score: 0.020004719495773315\t \n",
      "Topic: 0.014*\"iraq\" + 0.011*\"troop\" + 0.011*\"timor\" + 0.008*\"violenc\" + 0.007*\"solomon\" + 0.007*\"israel\" + 0.007*\"howard\" + 0.007*\"korea\" + 0.007*\"extend\" + 0.006*\"isra\"\n",
      "\n",
      "Score: 0.020004568621516228\t \n",
      "Topic: 0.012*\"guilti\" + 0.009*\"wind\" + 0.008*\"plead\" + 0.007*\"tiger\" + 0.007*\"uranium\" + 0.007*\"retir\" + 0.007*\"farm\" + 0.007*\"cyclon\" + 0.006*\"recycl\" + 0.005*\"ralli\"\n",
      "\n",
      "Score: 0.020004328340291977\t \n",
      "Topic: 0.009*\"england\" + 0.009*\"aussi\" + 0.009*\"open\" + 0.009*\"final\" + 0.008*\"world\" + 0.008*\"victori\" + 0.007*\"titl\" + 0.007*\"win\" + 0.007*\"australia\" + 0.006*\"test\"\n"
     ]
    }
   ],
   "source": [
    "'''\n",
    "Check which topic our test document belongs to using the LDA TF-IDF model.\n",
    "'''\n",
    "for index, score in sorted(lda_model_tfidf[bow_corpus[document_num]], key=lambda tup: -1*tup[1]):\n",
    "    print(\"\\nScore: {}\\t \\nTopic: {}\".format(score, lda_model_tfidf.print_topic(index, 10)))"
   ]
  },
  {
   "cell_type": "markdown",
   "metadata": {},
   "source": [
    "## Step 6: Testing model on unseen document ##"
   ]
  },
  {
   "cell_type": "code",
   "execution_count": 184,
   "metadata": {},
   "outputs": [
    {
     "name": "stdout",
     "output_type": "stream",
     "text": [
      "Score: 0.42001181840896606\t Topic: 0.017*\"world\" + 0.015*\"win\" + 0.015*\"record\" + 0.014*\"coast\" + 0.013*\"final\"\n",
      "Score: 0.22000038623809814\t Topic: 0.031*\"water\" + 0.019*\"warn\" + 0.018*\"secur\" + 0.016*\"test\" + 0.015*\"concern\"\n",
      "Score: 0.21994827687740326\t Topic: 0.037*\"seek\" + 0.028*\"miss\" + 0.024*\"hous\" + 0.019*\"search\" + 0.019*\"help\"\n",
      "Score: 0.020007099956274033\t Topic: 0.048*\"govt\" + 0.040*\"urg\" + 0.028*\"fund\" + 0.020*\"boost\" + 0.017*\"minist\"\n",
      "Score: 0.020006360486149788\t Topic: 0.049*\"plan\" + 0.040*\"council\" + 0.017*\"govt\" + 0.016*\"chang\" + 0.015*\"nation\"\n",
      "Score: 0.020006125792860985\t Topic: 0.022*\"australia\" + 0.020*\"forc\" + 0.018*\"open\" + 0.016*\"iraq\" + 0.016*\"inquiri\"\n",
      "Score: 0.0200049951672554\t Topic: 0.018*\"talk\" + 0.016*\"deal\" + 0.016*\"jail\" + 0.015*\"trial\" + 0.013*\"appeal\"\n",
      "Score: 0.0200049951672554\t Topic: 0.072*\"polic\" + 0.036*\"charg\" + 0.035*\"kill\" + 0.031*\"face\" + 0.023*\"attack\"\n",
      "Score: 0.0200049951672554\t Topic: 0.026*\"rise\" + 0.023*\"death\" + 0.020*\"case\" + 0.019*\"return\" + 0.018*\"high\"\n",
      "Score: 0.0200049951672554\t Topic: 0.036*\"crash\" + 0.026*\"hospit\" + 0.023*\"worker\" + 0.020*\"union\" + 0.018*\"die\"\n"
     ]
    }
   ],
   "source": [
    "unseen_document = \"My favorite sports activities are running and swimming.\"\n",
    "\n",
    "# Data preprocessing step for the unseen document\n",
    "bow_vector = dictionary.doc2bow(preprocess(unseen_document))\n",
    "\n",
    "for index, score in sorted(lda_model[bow_vector], key=lambda tup: -1*tup[1]):\n",
    "    print(\"Score: {}\\t Topic: {}\".format(score, lda_model.print_topic(index, 5)))"
   ]
  },
  {
   "cell_type": "markdown",
   "metadata": {},
   "source": [
    "The model correctly classifies the unseen document with ~`42%` probability to the `Sports` category."
   ]
  }
 ],
 "metadata": {
  "interpreter": {
   "hash": "c99bd3d91a4b91323b9437e92699dbf82cc6ba26dc500b79c067afe17d1503df"
  },
  "kernelspec": {
   "display_name": "Python 3.9.7 ('handson_ml')",
   "language": "python",
   "name": "python3"
  },
  "language_info": {
   "codemirror_mode": {
    "name": "ipython",
    "version": 3
   },
   "file_extension": ".py",
   "mimetype": "text/x-python",
   "name": "python",
   "nbconvert_exporter": "python",
   "pygments_lexer": "ipython3",
   "version": "3.9.7"
  },
  "orig_nbformat": 4
 },
 "nbformat": 4,
 "nbformat_minor": 2
}
