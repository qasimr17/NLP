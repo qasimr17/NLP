{
 "cells": [
  {
   "cell_type": "code",
   "execution_count": 1,
   "metadata": {},
   "outputs": [],
   "source": [
    "import os \n",
    "import re\n",
    "import numpy as np\n",
    "import seaborn as sns\n",
    "from pathlib import Path\n",
    "import matplotlib.pyplot as plt \n",
    "%matplotlib inline "
   ]
  },
  {
   "cell_type": "code",
   "execution_count": 2,
   "metadata": {},
   "outputs": [],
   "source": [
    "TRAIN_PATH = Path.cwd()/'Dataset/train'\n",
    "TEST_PATH = Path.cwd()/'Dataset/test'\n",
    "POS_WORDS_PATH = Path.cwd()/'Dataset/positive-words.txt'\n",
    "NEG_WORDS_PATH = Path.cwd()/'Dataset/negative-words.txt'\n",
    "\n",
    "def get_words_list():\n",
    "    \"\"\" Returns lists of positive and negative lexicon. \"\"\"\n",
    "    # Get positive lexicon \n",
    "    with open(POS_WORDS_PATH, \"r\") as file:\n",
    "        pos_words = [word.strip().lower() for word in file.readlines()]\n",
    "    # Get negative lexicon\n",
    "    with open(NEG_WORDS_PATH, \"r\") as file:\n",
    "        neg_words = [word.strip().lower() for word in file.readlines()]\n",
    "    return pos_words, neg_words\n",
    "\n",
    "\n",
    "POS_WORDS, NEG_WORDS = get_words_list()"
   ]
  },
  {
   "cell_type": "code",
   "execution_count": 3,
   "metadata": {},
   "outputs": [],
   "source": [
    "def log_word_count(text):\n",
    "    \"\"\" Returns the log of the word count of a movie review.\"\"\"\n",
    "    return np.log(len(text))\n",
    "\n",
    "\n",
    "def pos_neg_word_count(text):\n",
    "    \"\"\" Return the number of positive words in a movie review.\n",
    "    Positive words are already provided in the positive-words.txt\"\"\"\n",
    "    pos_count = 0\n",
    "    neg_count = 0\n",
    "\n",
    "    for word in text:\n",
    "        if word in POS_WORDS:\n",
    "            pos_count += 1 \n",
    "        if word in NEG_WORDS:\n",
    "            neg_count += 1\n",
    "    return pos_count, neg_count\n",
    "\n",
    "\n",
    "def special_character(text):\n",
    "    \"\"\" Checks two conditions:\n",
    "    \n",
    "    1. Returns 1 if \"no\" in review, 0 otherwise.\n",
    "    2. Returns 1 if \"!\" in review, 0 otherwise. \n",
    "    \n",
    "    \"\"\"\n",
    "    no_flag = 0\n",
    "    exclamation_flag = 0\n",
    "    no_list = ['no', 'no.', 'no!', 'no?', 'no*']\n",
    "    for word in text:\n",
    "        if word in no_list:\n",
    "            no_flag = 1\n",
    "        if '!' in word:\n",
    "            exclamation_flag = 1\n",
    "        if no_flag and exclamation_flag:\n",
    "            return no_flag, exclamation_flag\n",
    "    return no_flag, exclamation_flag \n",
    "\n",
    "    \n",
    "# Lambda function to get rating of a review from the filename\n",
    "get_rating = lambda x : int(Path(x).stem.split('_')[1])\n"
   ]
  },
  {
   "cell_type": "code",
   "execution_count": 4,
   "metadata": {},
   "outputs": [],
   "source": [
    "def preprocessing(path=TRAIN_PATH):\n",
    "    sentiment_classes = ['pos', 'neg']\n",
    "    X_neg, X_pos = [], []\n",
    "    for cls in sentiment_classes:\n",
    "        for review in os.listdir(path/cls):\n",
    "            file_path = path/cls/review\n",
    "            features = []\n",
    "            with open(file_path, 'r', encoding='utf-8') as file:\n",
    "                # text = file.readline(encoding='utf-8')\n",
    "                text = file.readline()\n",
    "            # print(text)\n",
    "            text = [word.strip().lower() for word in text.split(' ')]\n",
    "\n",
    "            # X1 holds count of positive words in a review \n",
    "            # X2 holds count of negative words in a review \n",
    "            x1, x2 = pos_neg_word_count(text)\n",
    "            \n",
    "\n",
    "            # X3 stores the movie rating given by the reviewer\n",
    "            x3 = get_rating(review)\n",
    "            \n",
    "            # X4 stores the log of the word count of a review \n",
    "            x4 = log_word_count(text)\n",
    "            \n",
    "            # X5 is 1 if 'no' in the review else 0\n",
    "            # X6 is 1 if '!' in the review else 0\n",
    "            x5, x6 = special_character(text)\n",
    "            # print(x5, x6)\n",
    "            features = [x1,x2,x3,x4,x5,x6]\n",
    "            if cls == 'neg':\n",
    "                X_neg.append(features)\n",
    "            elif cls == 'pos':\n",
    "                X_pos.append(features)\n",
    "            # break\n",
    "    return X_neg, X_pos\n",
    "              "
   ]
  },
  {
   "cell_type": "code",
   "execution_count": 5,
   "metadata": {},
   "outputs": [],
   "source": [
    "X_neg, X_pos = preprocessing()"
   ]
  },
  {
   "cell_type": "code",
   "execution_count": 6,
   "metadata": {},
   "outputs": [],
   "source": [
    "X_neg, X_pos = np.array(X_neg), np.array(X_pos)"
   ]
  },
  {
   "cell_type": "code",
   "execution_count": 120,
   "metadata": {},
   "outputs": [],
   "source": [
    "# Depending on your computer's hardware, the preprocessing function may take a few minutes to run\n",
    "# Once it does, it may prove wise to store the results to make loading much quicker\n",
    "np.savetxt('X_neg.txt', X_neg, fmt='%f')\n",
    "np.savetxt('X_pos.txt', X_pos, fmt='%f')"
   ]
  },
  {
   "cell_type": "code",
   "execution_count": 121,
   "metadata": {},
   "outputs": [],
   "source": [
    "X_neg = np.loadtxt('X_neg.txt')\n",
    "X_pos = np.loadtxt('X_pos.txt')"
   ]
  },
  {
   "cell_type": "code",
   "execution_count": 122,
   "metadata": {},
   "outputs": [
    {
     "data": {
      "text/plain": [
       "(12500, 6)"
      ]
     },
     "execution_count": 122,
     "metadata": {},
     "output_type": "execute_result"
    }
   ],
   "source": [
    "X_neg.shape"
   ]
  },
  {
   "cell_type": "code",
   "execution_count": 123,
   "metadata": {},
   "outputs": [],
   "source": [
    "X = np.concatenate((X_neg, X_pos), axis=0)"
   ]
  },
  {
   "cell_type": "code",
   "execution_count": 124,
   "metadata": {},
   "outputs": [
    {
     "name": "stdout",
     "output_type": "stream",
     "text": [
      "(25000, 7)\n"
     ]
    }
   ],
   "source": [
    "# Run this cell only once\n",
    "\n",
    "# Attach labels \n",
    "X_original = X.copy()\n",
    "y = np.concatenate((np.zeros(12500), np.ones(12500))).reshape(-1,1)\n",
    "X = np.concatenate((X, y), axis=1)\n",
    "print(X.shape)\n",
    "\n",
    "# Now, we can shuffle our feature matrix without losing track of the pos and neg labels\n",
    "np.random.shuffle(X)"
   ]
  },
  {
   "cell_type": "code",
   "execution_count": 125,
   "metadata": {},
   "outputs": [
    {
     "data": {
      "text/plain": [
       "(25000, 7)"
      ]
     },
     "execution_count": 125,
     "metadata": {},
     "output_type": "execute_result"
    }
   ],
   "source": [
    "X.shape"
   ]
  },
  {
   "cell_type": "code",
   "execution_count": 126,
   "metadata": {},
   "outputs": [
    {
     "name": "stdout",
     "output_type": "stream",
     "text": [
      "[1. 0. 1. ... 0. 0. 0.]\n",
      "(25000, 6)\n",
      "(25000,)\n"
     ]
    }
   ],
   "source": [
    "# Now, we can safely remove the labels from our feature vector\n",
    "y, X = X[:, -1], X[:, :-1]\n",
    "print(y)\n",
    "print(X.shape)\n",
    "print(y.shape)"
   ]
  },
  {
   "cell_type": "markdown",
   "metadata": {},
   "source": [
    "# Logistic Regression\n",
    "\n",
    "Now, we can work on developing our machine learning model"
   ]
  },
  {
   "cell_type": "code",
   "execution_count": 299,
   "metadata": {},
   "outputs": [],
   "source": [
    "class LogisticRegression(object):\n",
    "\n",
    "    def __init__(self, alpha=0.1, epochs=100, mode='sgd'):\n",
    "        self.alpha = alpha\n",
    "        self.epochs = epochs\n",
    "        self.mode = mode \n",
    "        self.theta = None \n",
    "        self.cost = []\n",
    "    \n",
    "    def sigmoid(self, z):\n",
    "        return 1 / (1 + np.exp(-z))\n",
    "\n",
    "    def loss(self, y_hat, y):\n",
    "        \"\"\" Cross Entropy Loss is used as the Loss Function\"\"\"\n",
    "        return (- y * (np.log(y_hat)) - (1 - y) * np.log(1 - y_hat)).mean()\n",
    "\n",
    "    def fit(self, X, Y, concat=True):\n",
    "\n",
    "        if concat:\n",
    "            X = np.c_[np.ones_like(X[:, 0]), X]\n",
    "            Y = Y.reshape(-1, 1)\n",
    "        \n",
    "        self.theta = np.random.rand(X.shape[1]).reshape(-1,1)\n",
    "\n",
    "        if self.mode == \"bgd\":\n",
    "            for _ in range(self.epochs):\n",
    "                z = X @ self.theta \n",
    "                y_hat = self.sigmoid(z)\n",
    "                dY = y_hat - Y \n",
    "                gradient = np.dot(X.T, dY) / Y.size\n",
    "                self.theta -= self.alpha * gradient\n",
    "                cost = self.loss(y_hat, Y)\n",
    "                self.cost.append(cost)\n",
    "        \n",
    "        elif self.mode == \"sgd\":\n",
    "            for _ in range(self.epochs):\n",
    "                for i in range(Y.size):\n",
    "                    x = X[i].reshape(1, -1)\n",
    "                    y = Y[i].reshape(1, -1)\n",
    "                    z = x @ self.theta\n",
    "                    y_hat = self.sigmoid(z)\n",
    "                    dy = y_hat - y \n",
    "                    gradient = x.T @ dy \n",
    "                    self.theta -= self.alpha * gradient\n",
    "                Z = X @ self.theta \n",
    "                y_hat = self.sigmoid(Z)\n",
    "                cost = self.loss(y_hat, Y)\n",
    "                self.cost.append(cost)\n",
    "        else:\n",
    "            print(\"Mode not recognised.\")\n",
    "\n",
    "    \n",
    "    def predict(self, X, concat=True):\n",
    "        if concat:\n",
    "            X = np.c_[np.ones_like(X[:, 0]), X]\n",
    "            \n",
    "        y_hat = self.sigmoid(X @ self.theta)\n",
    "        return y_hat.round()\n",
    "\n",
    "    def evaluate(self, X, Y):\n",
    "        \"\"\" Returns a confusion matrix\"\"\"\n",
    "        Y = Y.reshape(-1, 1)\n",
    "        Y_pred = self.predict(X)\n",
    "        TP = ((Y_pred == 1) & (Y == 1)).sum()\n",
    "        TN = ((Y_pred == 0) & (Y == 0)).sum()\n",
    "        FP = ((Y_pred == 1) & (Y == 0)).sum()\n",
    "        FN = ((Y_pred == 0) & (Y == 1)).sum()\n",
    "\n",
    "        precision = (TP) / (TP + FP)\n",
    "        recall = (TP) / (TP + FN)\n",
    "        accuracy = (TP + TN) / (TP + TN + FN + FP)\n",
    "        F1_score = 2 * ((precision * recall) / (precision + recall))\n",
    "\n",
    "        print ('Precision: %.4f' %precision)\n",
    "        print ('Recall: %.4f' %recall)\n",
    "        print ('Accuracy: %.4f' %accuracy)\n",
    "        print ('F1 score: %.4f' %F1_score)\n",
    "        \n",
    "        cm = np.array([TP,FP,FN,TN]).reshape(2,2)\n",
    "        \n",
    "        g = sns.heatmap(cm, annot=True, fmt = \".0f\",\n",
    "                    xticklabels=['pos','neg'], yticklabels=['pos','neg'])\n",
    "        plt.xlabel('Gold Labels', fontsize=14)\n",
    "        plt.ylabel('System Output', fontsize=14)\n",
    "        g.figure.set_size_inches(6, 4)\n"
   ]
  },
  {
   "cell_type": "code",
   "execution_count": 307,
   "metadata": {},
   "outputs": [],
   "source": [
    "EPOCHS = 1000\n",
    "ALPHA = 0.01\n",
    "lr = LogisticRegression(alpha = ALPHA, epochs=EPOCHS, mode='sgd')\n",
    "lr.fit(X, y)"
   ]
  },
  {
   "cell_type": "code",
   "execution_count": 308,
   "metadata": {},
   "outputs": [
    {
     "data": {
      "text/plain": [
       "<AxesSubplot:>"
      ]
     },
     "execution_count": 308,
     "metadata": {},
     "output_type": "execute_result"
    },
    {
     "data": {
      "image/png": "[encoded data removed]",
      "text/plain": [
       "<Figure size 432x288 with 1 Axes>"
      ]
     },
     "metadata": {
      "needs_background": "light"
     },
     "output_type": "display_data"
    }
   ],
   "source": [
    "# Check if model is performing as expected\n",
    "sns.lineplot(x=np.arange(EPOCHS), y=lr.cost)"
   ]
  },
  {
   "cell_type": "markdown",
   "metadata": {},
   "source": [
    "# Evaluating our model"
   ]
  },
  {
   "cell_type": "code",
   "execution_count": 18,
   "metadata": {},
   "outputs": [],
   "source": [
    "X_test_neg, X_test_pos = preprocessing(path=TEST_PATH)"
   ]
  },
  {
   "cell_type": "code",
   "execution_count": 19,
   "metadata": {},
   "outputs": [],
   "source": [
    "X_test_neg, X_test_pos = np.array(X_test_neg), np.array(X_test_pos)\n",
    "\n",
    "# We save these test results as well, just for our use and reference later\n",
    "np.savetxt('X_test_neg', X_test_neg, fmt='%f')\n",
    "np.savetxt('X_test_pos', X_test_pos, fmt='%f')"
   ]
  },
  {
   "cell_type": "code",
   "execution_count": 106,
   "metadata": {},
   "outputs": [],
   "source": [
    "X_test_neg = np.loadtxt('X_test_neg')\n",
    "X_test_pos = np.loadtxt('X_test_pos')"
   ]
  },
  {
   "cell_type": "code",
   "execution_count": 107,
   "metadata": {},
   "outputs": [],
   "source": [
    "X_test = np.concatenate((X_test_neg, X_test_pos), axis=0)"
   ]
  },
  {
   "cell_type": "code",
   "execution_count": 108,
   "metadata": {},
   "outputs": [
    {
     "name": "stdout",
     "output_type": "stream",
     "text": [
      "(25000, 7)\n"
     ]
    }
   ],
   "source": [
    "# Run this cell only once\n",
    "\n",
    "# Attach labels \n",
    "X_test_original = X_test.copy()\n",
    "y_test = np.concatenate((np.zeros(12500), np.ones(12500))).reshape(-1,1)\n",
    "X_test = np.concatenate((X_test, y_test), axis=1)\n",
    "print(X_test.shape)\n",
    "\n",
    "# Now, we can shuffle our feature matrix without losing track of the pos and neg labels\n",
    "np.random.shuffle(X)"
   ]
  },
  {
   "cell_type": "code",
   "execution_count": 109,
   "metadata": {},
   "outputs": [
    {
     "name": "stdout",
     "output_type": "stream",
     "text": [
      "[0. 0. 0. ... 1. 1. 1.]\n",
      "(25000, 6)\n",
      "(25000,)\n"
     ]
    }
   ],
   "source": [
    "# Now, we can safely remove the labels from our feature vector\n",
    "y_test, X_test = X_test[:, -1], X_test[:, :-1]\n",
    "print(y_test)\n",
    "print(X_test.shape)\n",
    "print(y_test.shape)"
   ]
  },
  {
   "cell_type": "code",
   "execution_count": 309,
   "metadata": {},
   "outputs": [
    {
     "name": "stdout",
     "output_type": "stream",
     "text": [
      "Precision: 0.9999\n",
      "Recall: 1.0000\n",
      "Accuracy: 1.0000\n",
      "F1 score: 1.0000\n"
     ]
    },
    {
     "data": {
      "image/png": "[encoded data removed]",
      "text/plain": [
       "<Figure size 432x288 with 2 Axes>"
      ]
     },
     "metadata": {
      "needs_background": "light"
     },
     "output_type": "display_data"
    }
   ],
   "source": [
    "lr.evaluate(X_test, y_test)"
   ]
  },
  {
   "cell_type": "markdown",
   "metadata": {},
   "source": [
    "# Built-in Model"
   ]
  },
  {
   "cell_type": "code",
   "execution_count": 310,
   "metadata": {},
   "outputs": [],
   "source": [
    "from sklearn.linear_model import LogisticRegression\n",
    "logreg = LogisticRegression()"
   ]
  },
  {
   "cell_type": "code",
   "execution_count": 311,
   "metadata": {},
   "outputs": [
    {
     "data": {
      "text/plain": [
       "LogisticRegression()"
      ]
     },
     "execution_count": 311,
     "metadata": {},
     "output_type": "execute_result"
    }
   ],
   "source": [
    "logreg.fit(X, y)"
   ]
  },
  {
   "cell_type": "code",
   "execution_count": 312,
   "metadata": {},
   "outputs": [
    {
     "name": "stdout",
     "output_type": "stream",
     "text": [
      "[0. 0. 0. ... 1. 1. 1.]\n",
      "[0. 0. 0. ... 1. 1. 1.]\n"
     ]
    }
   ],
   "source": [
    "print(logreg.predict(X_test))\n",
    "print(y_test)"
   ]
  },
  {
   "cell_type": "code",
   "execution_count": 313,
   "metadata": {},
   "outputs": [
    {
     "data": {
      "text/plain": [
       "25000"
      ]
     },
     "execution_count": 313,
     "metadata": {},
     "output_type": "execute_result"
    }
   ],
   "source": [
    "(logreg.predict(X_test) == y_test).sum()\n",
    "# Note that the model results in 100% accuracy "
   ]
  }
 ],
 "metadata": {
  "interpreter": {
   "hash": "c99bd3d91a4b91323b9437e92699dbf82cc6ba26dc500b79c067afe17d1503df"
  },
  "kernelspec": {
   "display_name": "Python 3.9.7 ('handson_ml')",
   "language": "python",
   "name": "python3"
  },
  "language_info": {
   "codemirror_mode": {
    "name": "ipython",
    "version": 3
   },
   "file_extension": ".py",
   "mimetype": "text/x-python",
   "name": "python",
   "nbconvert_exporter": "python",
   "pygments_lexer": "ipython3",
   "version": "3.9.7"
  },
  "orig_nbformat": 4
 },
 "nbformat": 4,
 "nbformat_minor": 2
}
